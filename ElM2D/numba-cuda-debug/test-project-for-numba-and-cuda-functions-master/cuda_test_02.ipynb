{
 "cells": [
  {
   "cell_type": "markdown",
   "metadata": {},
   "source": [
    "# Test if CUDA routines work properly"
   ]
  },
  {
   "cell_type": "markdown",
   "metadata": {},
   "source": [
    "# INIT"
   ]
  },
  {
   "cell_type": "code",
   "execution_count": 2,
   "metadata": {
    "ExecuteTime": {
     "end_time": "2020-05-30T13:05:59.069881Z",
     "start_time": "2020-05-30T13:05:53.420044Z"
    }
   },
   "outputs": [
    {
     "name": "stdout",
     "output_type": "stream",
     "text": [
      "The autoreload extension is already loaded. To reload it, use:\n",
      "  %reload_ext autoreload\n",
      "C:\\Users\\sterg\\Documents\\GitHub\\sparks-baird\\ElM2D\\ElM2D\\numba-cuda-debug\\test-project-for-numba-and-cuda-functions-master\n"
     ]
    }
   ],
   "source": [
    "%load_ext autoreload\n",
    "%autoreload 2\n",
    "#import gym\n",
    "import numpy as np\n",
    "from IPython.display import clear_output\n",
    "from matplotlib import pyplot as plt\n",
    "import time\n",
    "import os \n",
    "print(os.getcwd())\n",
    "import sys\n",
    "import pickle\n",
    "import random\n",
    "import numba \n",
    "from numba import jit,cuda\n",
    "from numba.cuda.random import create_xoroshiro128p_states, xoroshiro128p_uniform_float32"
   ]
  },
  {
   "cell_type": "code",
   "execution_count": 3,
   "metadata": {
    "ExecuteTime": {
     "end_time": "2020-05-30T13:05:59.588922Z",
     "start_time": "2020-05-30T13:05:59.071875Z"
    }
   },
   "outputs": [],
   "source": [
    "# constants\n",
    "MOVE_E = 0\n",
    "MOVE_X = 1\n",
    "MOVE_O = 2\n",
    "MOVE_I = 3\n",
    "# board representation\n",
    "gb_type = np.dtype([\n",
    "    ('boardO',(np.int32,29*29)),\n",
    "    ('boardX',(np.int32,29*29)),\n",
    "    ('boardCommon',(np.int32,29*29)),\n",
    "    ('moveProximities',(np.int32,29*29)),\n",
    "    ('noOfMoves', np.int32),\n",
    "    ('undo_moveProximitites', np.int32, (19 * 19, 5*5)),\n",
    "    ('undo_moves', np.int32, (19 * 19, 4)), # 0 - pos, 1-  lastMoveColor, posTypesX[movepos], posTypesO[movepos]\n",
    "    ('doSaveUndoInformation', np.int32),\n",
    "    ('lastMove', np.int32),\n",
    "    ('lastMoveColor', np.int32),\n",
    "    ('colorToMove', np.int32),\n",
    "    ('gameEnded', np.int32),\n",
    "    ('hashkey1', np.int32),\n",
    "    ('hashkey2', np.int32),\n",
    "    ('posTypesX',(np.int32,29*29)), # bitek: 0:gomoku, 1:D1, 2:D2, 3:A1, 4:A2, 5: W2, 6: A1xA2, 7: A2xA2, 8:A2 later A1\n",
    "    ('posTypesO',(np.int32,29*29)),\n",
    "    ('undo_movePosTypesX', np.int32, (19 * 19, 8*5)),\n",
    "    ('undo_movePosTypesO', np.int32, (19 * 19, 8*5))\n",
    "    ])"
   ]
  },
  {
   "cell_type": "code",
   "execution_count": 4,
   "metadata": {
    "ExecuteTime": {
     "end_time": "2020-05-30T13:05:59.943534Z",
     "start_time": "2020-05-30T13:05:59.591128Z"
    }
   },
   "outputs": [],
   "source": [
    "@cuda.jit(device=True)\n",
    "def cuda_init(env, startFromCenter , startFromCentralHalf, proximities,  random_states):\n",
    "    \"init the board's data and calculate proximities\"\n",
    "    thread_id = cuda.grid(1)\n",
    "    cuda_fillArrayWithZero(env.boardO)\n",
    "    cuda_fillArrayWithZero(env.boardX)\n",
    "    cuda_fillArrayWithZero(env.moveProximities)\n",
    "    cuda_fillArrayWithZero(env.boardCommon)\n",
    "    env.noOfMoves = 0\n",
    "    #env.undo_boardO[:,:] = 0\n",
    "    #env.undo_boardX[:,:] = 0\n",
    "    for i in range(19 * 19):\n",
    "        for j in range(4):\n",
    "            env.undo_moves[i,j] = 0\n",
    "        for j in range(5*5):\n",
    "            env.undo_moveProximitites[i,j] = 0\n",
    "\n",
    "    cuda_fillArrayWithZero(env.posTypesX)\n",
    "    cuda_fillArrayWithZero(env.posTypesO)\n",
    "\n",
    "    if startFromCenter:\n",
    "        gb_updateMoveProximities(env, gb_calcPosFromXY(9,9), proximities)\n",
    "        env.moveProximities[gb_calcPosFromXY(9,9)] = 1\n",
    "    elif startFromCentralHalf:\n",
    "        X = 4+int(14 * xoroshiro128p_uniform_float32(random_states, thread_id))\n",
    "        Y = 4 + int(14 * xoroshiro128p_uniform_float32(random_states, thread_id))\n",
    "        #X = random.randint(4, 18 - 4)\n",
    "        #Y = random.randint(4, 18 - 4)\n",
    "        gb_updateMoveProximities(env, gb_calcPosFromXY(X, Y), proximities)\n",
    "        env.moveProximities[gb_calcPosFromXY(X, Y)] = 1\n",
    "\n",
    "\n",
    "    env.lastMove = -1\n",
    "    env.lastMoveColor = 2\n",
    "    env.colorToMove = 1\n",
    "    env.doSaveUndoInformation = True\n",
    "    env.gameEnded = False\n",
    "    env.hashkey1 = 267425067\n",
    "    env.hashkey2 = 576253428\n",
    "    return"
   ]
  },
  {
   "cell_type": "code",
   "execution_count": 5,
   "metadata": {
    "ExecuteTime": {
     "end_time": "2020-05-30T13:06:00.346403Z",
     "start_time": "2020-05-30T13:05:59.945533Z"
    }
   },
   "outputs": [],
   "source": [
    "@cuda.jit(device=True)\n",
    "def cuda_fillArrayWithZero(myarray):\n",
    "    \"fill array with zero\"\n",
    "    for i in range(myarray.shape[0]):\n",
    "        myarray[i] = 0\n",
    "    return"
   ]
  },
  {
   "cell_type": "code",
   "execution_count": 6,
   "metadata": {
    "ExecuteTime": {
     "end_time": "2020-05-30T13:08:19.138144Z",
     "start_time": "2020-05-30T13:08:18.593046Z"
    }
   },
   "outputs": [],
   "source": [
    "@cuda.jit(\"i4(i4,i4)\",device=True)\n",
    "def gb_calcPosFromXY( X, Y):\n",
    "    \"convert coordinates\"\n",
    "    if  not(X>=0 and X<19): print (\"Error calcPosFromXY, wrong X=\" ,X)\n",
    "    if not(Y >= 0 and Y < 19): print(\"Error calcPosFromXY, wrong Y=\" ,Y)\n",
    "    return (5+X) + 29*(5+Y)\n",
    "\n",
    "@cuda.jit( \"UniTuple(i8, 2)(i4)\",device=True)\n",
    "def gb_calcXYFromPos( pos):\n",
    "    \"convert coordinates\"\n",
    "    if pos is None:\n",
    "        return -1, -1\n",
    "    if not(pos>=0 and pos < 29*29): print ( \"Error calcXYFromPos, wrong pos number=\" , pos)\n",
    "    X = pos % 29 - 5\n",
    "    Y = int (((pos - 5 - X) / 29)) - 5\n",
    "    if not(X >= 0 and X < 19): print(\"Error calcXYFromPos, wrong X=\", X)\n",
    "    if not(Y >= 0 and Y < 19): print(\"Error calcXYFromPos, wrong Y=\", Y)\n",
    "    return X,Y\n"
   ]
  },
  {
   "cell_type": "code",
   "execution_count": 7,
   "metadata": {
    "ExecuteTime": {
     "end_time": "2020-05-30T13:06:01.244765Z",
     "start_time": "2020-05-30T13:06:00.855806Z"
    }
   },
   "outputs": [],
   "source": [
    "@cuda.jit(device=True)\n",
    "def gb_updateMoveProximities(env, pos, proximities):\n",
    "    \"set some positions to 1 using the coordinates in the pre-calculated proximities array\"\n",
    "    if pos != -1:\n",
    "        k=0\n",
    "        while proximities[pos, k]>0:\n",
    "            kPos = proximities[pos, k]\n",
    "            #print (kPos, gb_calcXYFromPos(kPos))\n",
    "            if env.boardCommon[kPos] == 0:\n",
    "                env.moveProximities[kPos] = 1\n",
    "            k += 1\n",
    "    else:\n",
    "        pos = gb_calcPosFromXY(9,9)\n",
    "        k = 0\n",
    "        while proximities[pos, k] > 0:\n",
    "            kPos = proximities[pos, k]\n",
    "            env.moveProximities[kPos] = 1\n",
    "            k += 1\n",
    "        env.moveProximities[pos] = 1\n"
   ]
  },
  {
   "cell_type": "markdown",
   "metadata": {},
   "source": [
    "# CUDA kernel test 1 - init board"
   ]
  },
  {
   "cell_type": "code",
   "execution_count": 8,
   "metadata": {
    "ExecuteTime": {
     "end_time": "2020-05-30T13:06:01.647688Z",
     "start_time": "2020-05-30T13:06:01.246759Z"
    }
   },
   "outputs": [],
   "source": [
    "# define 100 boards\n",
    "N=100\n",
    "envs = np.zeros(N, dtype=gb_type)\n"
   ]
  },
  {
   "cell_type": "code",
   "execution_count": 9,
   "metadata": {
    "ExecuteTime": {
     "end_time": "2020-05-30T13:06:03.286848Z",
     "start_time": "2020-05-30T13:06:01.650635Z"
    }
   },
   "outputs": [
    {
     "name": "stdout",
     "output_type": "stream",
     "text": [
      "threads_per_block =  64 blockspergrid= 2\n"
     ]
    }
   ],
   "source": [
    "threads_per_block = 64\n",
    "# Calculate the number of thread blocks in the grid\n",
    "blocks = (envs.shape[0] + (threads_per_block - 1)) // threads_per_block\n",
    "print (\"threads_per_block = \", threads_per_block, \"blockspergrid=\", blocks)\n",
    "random_states = create_xoroshiro128p_states(threads_per_block * blocks, seed=1)    "
   ]
  },
  {
   "cell_type": "code",
   "execution_count": 10,
   "metadata": {
    "ExecuteTime": {
     "end_time": "2020-05-30T13:06:03.679419Z",
     "start_time": "2020-05-30T13:06:03.288842Z"
    }
   },
   "outputs": [],
   "source": [
    "#kernel function\n",
    "@cuda.jit()\n",
    "def kernel_test_01(io_array, out_array, proximities, random_states):\n",
    "    thread_id = cuda.grid(1)\n",
    "    if thread_id < io_array.size:\n",
    "        cuda_init(io_array[thread_id], True, False, proximities, random_states)\n",
    "        out_array[thread_id] = io_array[thread_id]"
   ]
  },
  {
   "cell_type": "code",
   "execution_count": 11,
   "metadata": {
    "ExecuteTime": {
     "end_time": "2020-05-30T13:06:04.851232Z",
     "start_time": "2020-05-30T13:06:03.680420Z"
    }
   },
   "outputs": [
    {
     "name": "stdout",
     "output_type": "stream",
     "text": [
      "Run OKAY\n"
     ]
    }
   ],
   "source": [
    "#  test kernel 1\n",
    "envs_out = np.zeros((envs.shape[0]), dtype = gb_type)\n",
    "envs_in_gpu = numba.cuda.to_device(envs)\n",
    "envs_out_gpu = numba.cuda.to_device(envs_out)\n",
    "proximities = np.load(\"data/proximities_2.npy\")\n",
    "\n",
    "kernel_test_01[blocks, threads_per_block](envs_in_gpu, envs_out_gpu, proximities, random_states)\n",
    "print (\"Run OKAY\")"
   ]
  },
  {
   "cell_type": "markdown",
   "metadata": {},
   "source": [
    "# CUDA kernel test 2 - call some more device functions"
   ]
  },
  {
   "cell_type": "code",
   "execution_count": 12,
   "metadata": {
    "ExecuteTime": {
     "end_time": "2020-05-30T13:06:05.210324Z",
     "start_time": "2020-05-30T13:06:04.853227Z"
    }
   },
   "outputs": [],
   "source": [
    "@cuda.jit(device=True)\n",
    "def gb_calc_gindex(i1,i2,i3,i4,i5,i6,i7,i8,i9,i10):\n",
    "    return int((((((((((((((((((i1 << 1) + i2) << 1) +\n",
    "                         i3) << 1) + i4) << 1) + i5) << 1) +\n",
    "                   i6) << 1) + i7) << 1) + i8) << 1) +\n",
    "             i9) << 1) + i10)"
   ]
  },
  {
   "cell_type": "code",
   "execution_count": 13,
   "metadata": {
    "ExecuteTime": {
     "end_time": "2020-05-30T13:06:05.616246Z",
     "start_time": "2020-05-30T13:06:05.213267Z"
    }
   },
   "outputs": [],
   "source": [
    "@cuda.jit(device=True)\n",
    "def isPosValid(pos):\n",
    "    \"check if a position is valid\"\n",
    "    i = pos % 29 - 5\n",
    "    j = int (((pos - 5 - i) / 29)) - 5\n",
    "    if i>=0 and i<19 and j>=0 and j<19:\n",
    "        return True\n",
    "    return False"
   ]
  },
  {
   "cell_type": "code",
   "execution_count": 14,
   "metadata": {
    "ExecuteTime": {
     "end_time": "2020-05-30T13:06:05.999656Z",
     "start_time": "2020-05-30T13:06:05.618246Z"
    }
   },
   "outputs": [],
   "source": [
    "@cuda.jit(device=True)\n",
    "def gb_check_if_gomokuPos(env , POS, color, dontCheckPos , data_isgomoku):\n",
    "    \n",
    "    if not isPosValid(POS):\n",
    "        X,Y = gb_calcXYFromPos(POS)\n",
    "        print(\"Error gb_check_if_gomokuPos, wrong X or Y=\", X, Y)\n",
    "\n",
    "    # ha foglalt\n",
    "    #if env.boardCommon[POS] != 0:\n",
    "    #    return False\n",
    "\n",
    "    if not dontCheckPos:\n",
    "        if env.boardX[POS] != 0 or env.boardO[POS] != 0:\n",
    "            return False\n",
    "\n",
    "    board = env.boardX\n",
    "    if color == MOVE_O:\n",
    "        board = env.boardO\n",
    "\n",
    "    if board[POS-1] == 1 or board[POS+1] == 1:\n",
    "        index = gb_calc_gindex(board[POS-5],board[POS-4],board[POS-3],board[POS-2],board[POS-1],board[POS+1],board[POS+2],board[POS+3],board[POS+4],board[POS+5])\n",
    "        if index <0 or index > data_isgomoku.shape[0]: print (\"Error gb_check_if_gomokuPos, wrong index=\", index, 1)\n",
    "\n",
    "        if data_isgomoku[index]:\n",
    "            return True\n",
    "\n",
    "    if board[POS-29] == 1 or board[POS+29] == 1:\n",
    "        index = gb_calc_gindex(board[POS-145],board[POS-116],board[POS-87],board[POS-58],board[POS-29],board[POS+29],board[POS+58],board[POS+87],board[POS+116],board[POS+145])\n",
    "        if index < 0 or index > data_isgomoku.shape[0]: print(\"Error gb_check_if_gomokuPos, wrong index=\", index, 2)\n",
    "\n",
    "        if data_isgomoku[index]:\n",
    "            return True\n",
    "\n",
    "    if board[POS-30] == 1 or board[POS+30] == 1:\n",
    "        index = gb_calc_gindex(board[POS-150],board[POS-120],board[POS-90],board[POS-60],board[POS-30],board[POS+30],board[POS+60],board[POS+90],board[POS+120],board[POS+150])\n",
    "        if index < 0 or index > data_isgomoku.shape[0]: print(\"Error gb_check_if_gomokuPos, wrong index=\", index, 3)\n",
    "\n",
    "        if data_isgomoku[index]:\n",
    "            return True\n",
    "\n",
    "    if board[POS-28] == 1 or board[POS+28] == 1:\n",
    "        index = gb_calc_gindex(board[POS-140],board[POS-112],board[POS-84],board[POS-56],board[POS-28],board[POS+28],board[POS+56],board[POS+84],board[POS+112],board[POS+140])\n",
    "        if index < 0 or index > data_isgomoku.shape[0]: print(\"Error gb_check_if_gomokuPos, wrong index=\", index, 4)\n",
    "\n",
    "        if data_isgomoku[index]:\n",
    "            return True\n",
    "\n",
    "\n",
    "    return False"
   ]
  },
  {
   "cell_type": "code",
   "execution_count": 15,
   "metadata": {
    "ExecuteTime": {
     "end_time": "2020-05-30T13:07:20.267921Z",
     "start_time": "2020-05-30T13:07:19.560579Z"
    }
   },
   "outputs": [],
   "source": [
    "@cuda.jit()\n",
    "def kernel_test_02(io_array, out_array, random_states, data_isgomoku,proximities):\n",
    "    \"this kernel serves only for testing purposes, it calls some of the device functions in order to check if they work properly\"\n",
    "\n",
    "    thread_id = cuda.grid(1)\n",
    "    if thread_id < io_array.size:\n",
    "        \n",
    "        X = 12 \n",
    "        Y = 12 \n",
    "        pos = gb_calcPosFromXY(X,Y)\n",
    "        env = io_array[thread_id]\n",
    "        # \n",
    "        cuda_init(io_array[thread_id], True, False, proximities, random_states)\n",
    "        gb_updateMoveProximities(env, pos, proximities)\n",
    "        v = gb_check_if_gomokuPos(env, pos, MOVE_X, False, data_isgomoku)\n",
    "\n",
    "        out_array[thread_id] = io_array[thread_id]"
   ]
  },
  {
   "cell_type": "code",
   "execution_count": 16,
   "metadata": {
    "ExecuteTime": {
     "end_time": "2020-05-30T13:08:26.176631Z",
     "start_time": "2020-05-30T13:08:24.075580Z"
    }
   },
   "outputs": [
    {
     "name": "stdout",
     "output_type": "stream",
     "text": [
      "Run OKAY\n"
     ]
    }
   ],
   "source": [
    "#  test kernel 2\n",
    "envs_out = np.zeros((envs.shape[0]), dtype = gb_type)\n",
    "envs_in_gpu = numba.cuda.to_device(envs)\n",
    "envs_out_gpu = numba.cuda.to_device(envs_out)\n",
    "proximities = np.load(\"data/proximities_2.npy\")\n",
    "data_isgomoku = np.load(\"data/isgomoku_moreThan5Good.npy\")\n",
    "\n",
    "kernel_test_02[blocks, threads_per_block](envs_in_gpu, envs_out_gpu, random_states, data_isgomoku, proximities)\n",
    "print (\"Run OKAY\")"
   ]
  },
  {
   "cell_type": "code",
   "execution_count": null,
   "metadata": {},
   "outputs": [],
   "source": []
  }
 ],
 "metadata": {
  "kernelspec": {
   "display_name": "Python 3",
   "language": "python",
   "name": "python3"
  },
  "language_info": {
   "codemirror_mode": {
    "name": "ipython",
    "version": 3
   },
   "file_extension": ".py",
   "mimetype": "text/x-python",
   "name": "python",
   "nbconvert_exporter": "python",
   "pygments_lexer": "ipython3",
   "version": "3.7.11"
  },
  "toc": {
   "base_numbering": 1,
   "nav_menu": {},
   "number_sections": true,
   "sideBar": true,
   "skip_h1_title": false,
   "title_cell": "Table of Contents",
   "title_sidebar": "Contents",
   "toc_cell": false,
   "toc_position": {},
   "toc_section_display": true,
   "toc_window_display": true
  }
 },
 "nbformat": 4,
 "nbformat_minor": 2
}
